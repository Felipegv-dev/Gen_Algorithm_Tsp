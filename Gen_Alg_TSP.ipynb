{
 "cells": [
  {
   "cell_type": "markdown",
   "metadata": {
    "id": "mFeAETsZuZN7"
   },
   "source": [
    "# **Reto Calles abarrotadas con Enfoque de Sistema de Hormigas**"
   ]
  },
  {
   "cell_type": "markdown",
   "metadata": {
    "id": "2vmBh_OihdCe"
   },
   "source": [
    "* Santiago Castro Benavides \t\t\tA01799544\n",
    "* Rodrigo Lira Del Ángel \t\t\tA01799277\n",
    "* Diego Jesús de Lara de la Cruz\t\tA01799544\n",
    "* Andrés Felipe García Viña                              A01800027"
   ]
  },
  {
   "cell_type": "markdown",
   "metadata": {
    "id": "q9DFsCT-XVEH"
   },
   "source": [
    "## **Contextualización**\n",
    "\n",
    "En las grandes ciudades, la creciente demanda de compras en línea ha sobrecargado los sistemas de entrega, llevando a situaciones críticas como la dificultad de encontrar estacionamiento, especialmente en áreas muy densamente pobladas como Manhattan. Los conductores de reparto, como son los de UPS, se enfrentan a largas esperas para estacionarse, lo que ralentiza las entregas y aumenta los costos de operación. Como respuesta, empresas y ciudades en Europa y Asia han hecho esfuerzos para implementar medidas innovadoras, como horarios restringidos para entregas, centros logísticos centralizados y vehículos ecológicos, para de esta manera mejorar la eficiencia. De manera adicional, se exploran en estos momentos tecnologías emergentes como drones, robots de reparto y vehículos autónomos para optimizar las entregas y reducir los costos.\n",
    "\n",
    "Para este proyecto buscamos abordar los desafíos que se presentan mediante la implementación de un algoritmo de colonia de hormigas para resolver el problema del viajero dadas un conjunto de coordenadas geográficas, optimizando así las rutas de entrega en escenarios urbanos complejos. De igual forma, se utiliza Python para permitirnos explorar soluciones eficientes para minimizar los tiempos de entrega y al mismo tiempo maximizar la eficiencia de operación.\n"
   ]
  },
  {
   "cell_type": "markdown",
   "metadata": {
    "id": "uTSzq_NUwWcE"
   },
   "source": [
    "# **Importación de Librerias**"
   ]
  },
  {
   "cell_type": "markdown",
   "metadata": {
    "id": "NjFHrAN5XfPy"
   },
   "source": [
    "1. `Numpy`: Biblioteca utilizada fundamentalmente para el cálculo numérico en Python, en particular es usada para poder trabajar con matrices o matrices multidimencionales.\n",
    "\n",
    "2. `Pandas`: Biblioteca es usada para la manipulación y análisis de datos estructurados, especialmente con un formato tabular. Por otro lado, esta permite importar datos en formatos CSV, Excel, SQL, entre otros.\n",
    "\n",
    "3. `Plotly`: Biblioteca la cual se usa para la creación de gráficos interactivos y visualizaciones de datos, dando a los gráficos una autenticidad útil al momento de presentar información."
   ]
  },
  {
   "cell_type": "code",
   "execution_count": 1,
   "metadata": {
    "id": "PD7GUcNnuCoI"
   },
   "outputs": [],
   "source": [
    "import numpy as np\n",
    "import pandas as pd\n",
    "import plotly.graph_objects as go"
   ]
  },
  {
   "cell_type": "markdown",
   "metadata": {
    "id": "hYfjvtuE0y8C"
   },
   "source": [
    "# **Funciones**"
   ]
  },
  {
   "cell_type": "markdown",
   "metadata": {
    "id": "P3-wCojxXzcH"
   },
   "source": [
    "## **Función para calcular la distancia euclidiana**\n",
    "\n",
    "La función `distancia` tiene como objetivo realizar el cálculo entre la distancia de dos puntos ubicados cartesianamente, se escogió la distancia euclidiana, que funciona calculando la diferencia de las componentes en latitud y longitud. utilizando la siguiente fórmula.\n",
    "\n",
    "<center>$Distancia = \\sqrt{(x_1-x_2)^2+(y_1-y_2)^2}$</center>"
   ]
  },
  {
   "cell_type": "markdown",
   "metadata": {
    "id": "mjG_xQV-cs_D"
   },
   "source": [
    "* **input**: Recibe como parametro `c1` y `c2` los cuales representan a ciudades en coordenadas especificas.\n",
    "* **output**: Retorna la sitancia euclidiana entre `c1` y `c2`."
   ]
  },
  {
   "cell_type": "code",
   "execution_count": 2,
   "metadata": {
    "id": "yzE4a6djzfM2"
   },
   "outputs": [],
   "source": [
    "# Función de distancia: calcula la distancia euclidiana entre dos puntos\n",
    "def distancia(c1, c2):\n",
    "    return np.linalg.norm(np.array(c1) - np.array(c2))"
   ]
  },
  {
   "cell_type": "markdown",
   "metadata": {
    "id": "5ry4o867YRg0"
   },
   "source": [
    "## **Creación de la matriz de distancias entre las 72 ciudades**\n",
    "\n",
    "La función `inicializar_matriz_distancias` realizara una matriz de distancias, es necesario resaltar que la matriz que se producirá será simétrica, esto debido a que la distancia entre una ciudad $“i”$ a una ciudad $“j”$ es la misma que la distancia entre la ciudad $“j”$ a la ciudad $“i”$. Inicialmente la función creara una matriz de tamaño ($n$ x $n$) unicamente con zeros, donde n es la cantidad de longitud de `ciudades`. Posteriormente, se realiza un bucle a lo largo de las longitudes y latitudes para asignar las distancias utilizando la función `distancia (c1,c2)`."
   ]
  },
  {
   "cell_type": "markdown",
   "metadata": {
    "id": "4h8DhehDdQyT"
   },
   "source": [
    "* **input**: Recibe como parametro `ciudades` la cual es un arreglo con las coordenadas de todas las ciudades.\n",
    "* **output**: Matriz con todas las distancias entre cada una de las ciudades."
   ]
  },
  {
   "cell_type": "code",
   "execution_count": 3,
   "metadata": {
    "id": "Xci4ESQ7zlBZ"
   },
   "outputs": [],
   "source": [
    "# Inicializa la matriz de distancias\n",
    "def inicializar_matriz_distancias(ciudades):\n",
    "    n = len(ciudades)\n",
    "    distancias = np.zeros((n, n))\n",
    "    for i in range(n):\n",
    "        for j in range(n):\n",
    "          dis = distancia(ciudades[i], ciudades[j])\n",
    "          distancias[i, j] = dis\n",
    "          distancias[j, i] = dis\n",
    "    return distancias"
   ]
  },
  {
   "cell_type": "markdown",
   "metadata": {
    "id": "LJ1RDOuGYmAD"
   },
   "source": [
    "## **Inicialización de feromonas**\n",
    "\n",
    "Esta función `inicializar_feromonas` tiene como objetivo inicializar una matriz de feromonas, si no se especifica un valor de `valor_inicial`, se le dará por defecto un valor de 1."
   ]
  },
  {
   "cell_type": "markdown",
   "metadata": {
    "id": "V_SGazfgd0tK"
   },
   "source": [
    "* **input**: Recibe como parametro `n_ciudades` siendo esto el numero de ciudades en el modelo, y tambien recibe `valor_inicial` que sera el numero de feromonas con el que se inicializaran los caminos entre ciudades del modelo.\n",
    "* **output**: Matriz con con el valor inicial de las feromonas en el modelo."
   ]
  },
  {
   "cell_type": "code",
   "execution_count": 4,
   "metadata": {
    "id": "ttj5OwDV0igl"
   },
   "outputs": [],
   "source": [
    "# Inicializa la matriz de feromonas\n",
    "def inicializar_feromonas(n_ciudades, valor_inicial=1.0):\n",
    "    return np.ones((n_ciudades, n_ciudades)) * valor_inicial"
   ]
  },
  {
   "cell_type": "markdown",
   "metadata": {
    "id": "nYme5NpSYptC"
   },
   "source": [
    "## **Función para elegir la siguiente ciudad a dirigirse**\n",
    "\n",
    "La función `elegir_ciudad` está diseñada para elegir a partir de probabilidades la siguiente ciudad a visitar, dicha elección se realiza basándose en dos factores, las feromonas y las distancias entre las ciudades. Adicionalmente, los parámetros alfa y beta dan mayor peso a estos dos factores.\n",
    "\n",
    "Al inicio se calcula `tau`, vector de las feromonas de las ciudades que aún no se visitan y tambien se calcula `eta` el inverso de las distancias entre la ciudad actual y las ciudades faltantes, esto debido a que el objetivo es minimizar la distancia recorrida, por lo tanto, cuanto mayor sea el valor de distancia inversa, mayor probabilidad de ser seleccionadas. .\n",
    "\n",
    "Posteriormente se calculan las probabilidades utilizando los valores de `tau` y `eta` con los valores de `alfa` y `beta` para así calcular las probabilidades de ir a cada ciudad, teniendo mayor probabilidad de ser elegidas las ciudades con mas feromonas y menos distanca a la ciudad en la que se encuntra la hormiga.\n",
    "\n",
    "<center>  <p>\n",
    "$$\n",
    "P_{ij} = \\frac{[\\tau_{ij}]^\\alpha \\cdot [\\eta_{ij}]^\\beta}{\\sum_{k \\in J}[\\tau_{ik}]^\\alpha \\cdot [\\eta_{ik}]^\\beta}\n",
    "$$\n",
    "\n",
    "  </p></center>\n"
   ]
  },
  {
   "cell_type": "markdown",
   "metadata": {
    "id": "TOeXnsjIjqHV"
   },
   "source": [
    "* **input**: Recibe como parametros `feromonas`,`distancias`,`ciudad_0`,`ciudades_faltantes`,`alfa` y `beta` siendo estos:\n",
    "    *  `feromonas`: cantidad de feromonas entre la ciudad en la que se encuntra la hormiga y las que aún no ha visitado.\n",
    "    *  `distancias`: distancia  entre la ciudad en la que se encuntra la hormiga y las que aún no ha visitado.\n",
    "    *  `ciudad_0`: ciudad en la que se encuntra la hormiga.\n",
    "    *  `ciudades_faltantes`: ciudades que aún no visita la hormiga.\n",
    "    *  `alfa`: Importancia que se le dara a las feromonas para determinar la proxima ciudad a visitar.\n",
    "    *  `beta`:Importancia que se le dara a la distancia para determinar la proxima ciudad a visitar.\n",
    "\n",
    "\n",
    "* **output**: Proxima ciudad a la que ira la hormiga."
   ]
  },
  {
   "cell_type": "code",
   "execution_count": 5,
   "metadata": {
    "id": "MAzs3NFG0wzf"
   },
   "outputs": [],
   "source": [
    "def elegir_ciudad(feromonas, distancias, ciudad_0, ciudades_faltantes, alfa, beta):\n",
    "    # Accede solo una vez a las matrices para las ciudades faltantes\n",
    "    tau = feromonas[ciudad_0, ciudades_faltantes]  # Vector de feromonas para las ciudades no visitadas\n",
    "    eta = 1 / distancias[ciudad_0, ciudades_faltantes]  # Vector de inversa de distancias\n",
    "\n",
    "    # Calcula los valores de probabilidad utilizando operaciones vectorizadas\n",
    "    p_values = (tau ** alfa) * (eta ** beta)\n",
    "\n",
    "    # Normaliza las probabilidades\n",
    "    p_values /= p_values.sum()\n",
    "\n",
    "    # Selecciona la ciudad de forma probabilística\n",
    "    ciudad_siguiente = np.random.choice(ciudades_faltantes, p=p_values)\n",
    "    return ciudad_siguiente"
   ]
  },
  {
   "cell_type": "markdown",
   "metadata": {
    "id": "vqB3oGPtY2Wy"
   },
   "source": [
    "## **Ejecución del Algoritmo de Colonia de Hormigas**\n",
    "\n",
    "La función `aco_tsp` tiene como proposito ser la funcion principal del algoritmo en donde se buscara la ruta optima para el problema del viajero `tsp`.\n",
    "\n",
    "Para iniciar el código, se calcula el número de ciudades, posteriormente se genera la matriz de distancias, con la funcion `inicializar_matriz_distancias`, y se inicializan las feromonas, con la función `inicializar_feromonas`.\n",
    "\n",
    "En el primer ciclo se inicia con la creación de una lista que almacenará las rutas encontradas por cada hormiga, además se generará una variable que almacena la distancia de cada ruta de hormigas.\n",
    "\n",
    "Mientras que en el segundo ciclo se construye una ruta por cada hormiga, donde se elige aleatoriamente una ciudad inicial y se comienza una ruta con esa ciudad, aparte se crea un conjunto de ciudades que aún no son visitadas.\n",
    "\n",
    "En este proceso se encuntra la selección de la siguiente ciudad a visitar, con la función `elegir_ciudad`,  donde mientras existan ciudades sin visitar,y no se haya pasado el numero maximo de iteraciones, la hormiga seleccionará una ciudad, después de seleccionar la ciudad se agrega a la ruta y se elimina del conjunto de ciudades no visitadas.\n",
    "\n",
    "Una vez que todas las ciudades han sido visitadas, la hormiga vuelve a la ciudad de origen completando así su ruta, para que posteriormente se almacene en la lista de rutas de hormigas.\n",
    "\n",
    "Posteriormente se calcula la distancia total recorrida por la hormiga, si esta distancia es mejor que la distancia global conocida, se actualiza la mejor distancia al igual que la mejor ruta.\n",
    "\n",
    "Luego de la iteración principal se aplica la actualización a la matriz de feromonas y se genera un ciclo adicional donde para cada hormiga se calcula el valor de feromonas depositadas en función de la calidad de la ruta, donde la cantidad de feromonas es inversamente proporcional a la distancia de la ruta. Finalmente se actualiza la matriz de feromonas por cada par de ciudades en la ruta de la hormiga, para si al final de la función regresar la mejor ruta y la mejor distancia."
   ]
  },
  {
   "cell_type": "markdown",
   "metadata": {
    "id": "tS3soowXq-kY"
   },
   "source": [
    "* **input**: Recibe como parametros `ciudades`,`n_hormigas`,`alfa`,`beta`,`rho`,`q` y `iteraciones` siendo estos:\n",
    "\n",
    "    *  `ciudades`: lista con las coordenadas de todas las ciudades que se visitaran en el problema.\n",
    "    *  `n_hormigas`: numero de hormigas que estaran en el modelo.\n",
    "    *  `alfa`: Importancia que se le dara a las feromonas para determinar la proxima ciudad a visitar. Por defecto 1.\n",
    "    *  `beta`:Importancia que se le dara a la distancia para determinar la proxima ciudad a visitar. Por defecto 2.\n",
    "    *  `rho`: Coeficiente de evaporación de feromonas. Por defecto 0.5.\n",
    "    *  `q`: Cantidad de feromonas que dejara una hormiga. Por defecto 100.\n",
    "    *  `iteraciones`: Numero de iteraciones que hara el modelo antes de calcular la mejor distancia. Por defecto 100.\n",
    "\n",
    "\n",
    "* **output**: `mejor_ruta_global` y `mejor_distancia_global`, donde la primera es una lista con el orden en el que fue visitada cada ciudad en la solución optima y el segundo la distancia que reccore la solución optima encontrada."
   ]
  },
  {
   "cell_type": "code",
   "execution_count": 6,
   "metadata": {
    "id": "ZnpQeGLY2bMX"
   },
   "outputs": [],
   "source": [
    "def aco_tsp(ciudades, n_hormigas, alfa=1, beta=2, rho=0.5, q=100, iteraciones=100):\n",
    "    n_ciudades = len(ciudades)\n",
    "    distancias = inicializar_matriz_distancias(ciudades)\n",
    "    feromonas = inicializar_feromonas(n_ciudades)\n",
    "\n",
    "    mejor_distancia_global = np.inf\n",
    "    mejor_ruta_global = None\n",
    "\n",
    "    for iteracion in range(iteraciones):\n",
    "        rutas_hormigas = []\n",
    "        distancias_rutas = np.zeros(n_hormigas)\n",
    "\n",
    "        # Cada hormiga construye una ruta\n",
    "        for hormiga in range(n_hormigas):\n",
    "            ciudad_inicial = np.random.randint(0, n_ciudades)\n",
    "            ruta = [ciudad_inicial]\n",
    "            ciudades_no_visitadas = set(range(n_ciudades))\n",
    "            ciudades_no_visitadas.remove(ciudad_inicial)\n",
    "\n",
    "            while ciudades_no_visitadas:\n",
    "                ciudad_actual = ruta[-1]\n",
    "                ciudad_siguiente = elegir_ciudad(\n",
    "                    feromonas, distancias, ciudad_actual, list(ciudades_no_visitadas), alfa, beta\n",
    "                )\n",
    "                ruta.append(ciudad_siguiente)\n",
    "                ciudades_no_visitadas.remove(ciudad_siguiente)\n",
    "\n",
    "            # Vuelve a la ciudad inicial para completar la ruta\n",
    "            ruta.append(ciudad_inicial)\n",
    "            rutas_hormigas.append(ruta)\n",
    "\n",
    "            # Calcula la distancia de la ruta de manera vectorizada\n",
    "            distancias_rutas[hormiga] = np.sum([distancias[ruta[i], ruta[i + 1]] for i in range(n_ciudades)])\n",
    "\n",
    "            # Actualiza la mejor ruta global si se encuentra una mejor\n",
    "            if distancias_rutas[hormiga] < mejor_distancia_global:\n",
    "                mejor_distancia_global = distancias_rutas[hormiga]\n",
    "                mejor_ruta_global = ruta\n",
    "\n",
    "        # Actualización de feromonas: evaporación (se hace vectorizado)\n",
    "        feromonas *= (1 - rho)\n",
    "\n",
    "        # Depósito de feromonas por las hormigas\n",
    "        for hormiga, ruta in enumerate(rutas_hormigas):\n",
    "            delta_feromona = q / distancias_rutas[hormiga]\n",
    "            for j in range(n_ciudades):\n",
    "                i, k = ruta[j], ruta[j + 1]\n",
    "                feromonas[i, k] += delta_feromona\n",
    "                feromonas[k, i] += delta_feromona\n",
    "\n",
    "    return mejor_ruta_global, mejor_distancia_global"
   ]
  },
  {
   "cell_type": "markdown",
   "metadata": {
    "id": "cv_mKF88fCr1"
   },
   "source": [
    "## **Producción de gráfica**\n",
    "\n",
    "Esta función tiene como objetivo producir el cambio de color de manera moderada entre el azul que se establece como el punto de inicio de la ruta hasta el verde que se establece como el punto final de la ruta, esto con el objetivo de diferenciar la dirección que tomó la hormiga que produjo la mejor ruta con la mejor distancia, asi plazmandolo en el grafico.\n",
    "\n",
    "Esta función toma como parametro de entrada el formato de color RGB y lo pasa a valor hexadecimal.\n",
    "\n",
    "Como última función se tiene la graficación de la ruta, esta toma en cuenta lista de ciudades y la ruta final encontrada por el algoritmo, adicionalmente toma en cuenta el color de inicio y de final de la ruta y se establecen los valores del eje `x` y del eje `y`.\n",
    "\n",
    "Luego se empieza a graficar la conexión entre las ciudades con los colores interpolados, utilizando las funciones de interpolación de color y conversor de color a hexadecimal.\n",
    "\n",
    "Finalmente se marca cual es la ciudad de inicio con el color morado para que se resalte y se note cual es, además de agregar un personalizado oscuro a la gráfica y asignando los nombres de los ejes y leyendas respectivamente.\n",
    "\n",
    "Por último, se asigna la posición de la leyenda hasta abajo del gráfico y se manda la instrucción de imprimir la gráfica."
   ]
  },
  {
   "cell_type": "code",
   "execution_count": 7,
   "metadata": {
    "id": "Iy5YV7om3Uk5"
   },
   "outputs": [],
   "source": [
    "# Función para interpolar colores en un gradiente de morado a azul claro\n",
    "def interpolar_color(color_inicio, color_fin, factor):\n",
    "    return tuple([\n",
    "        int(color_inicio[i] + (color_fin[i] - color_inicio[i]) * factor)\n",
    "        for i in range(3)\n",
    "    ])\n",
    "\n",
    "# Convertir un valor RGB a hexadecimal\n",
    "def rgb_a_hex(rgb):\n",
    "    return '#{:02x}{:02x}{:02x}'.format(*rgb)\n",
    "\n",
    "def graficar_ruta(ciudades, ruta, titulo=\"Ruta óptima\"):\n",
    "    ciudades = np.array(ciudades)\n",
    "    ruta = np.array(ruta)\n",
    "\n",
    "    # Colores de inicio (morado) y fin (azul claro)\n",
    "    color_inicio = (0, 105, 148)  # AguaMarina (en RGB)\n",
    "    color_fin = (144, 238, 144)  # Verde Claro (en RGB)\n",
    "\n",
    "    # Crear una figura en Plotly\n",
    "    fig = go.Figure()\n",
    "\n",
    "    # Graficar las conexiones entre ciudades en la ruta con colores interpolados\n",
    "    num_segmentos = len(ruta) - 1\n",
    "    for i in range(num_segmentos):\n",
    "        ciudad_actual = ruta[i]\n",
    "        ciudad_siguiente = ruta[i + 1]\n",
    "\n",
    "        # Interpolar el color para este segmento\n",
    "        factor = i / num_segmentos  # Proporción de progreso en la ruta\n",
    "        color_interpolado = interpolar_color(color_inicio, color_fin, factor)\n",
    "        color_hex = rgb_a_hex(color_interpolado)\n",
    "\n",
    "        # Graficar el segmento de la ruta con el color interpolado\n",
    "        fig.add_trace(go.Scatter(\n",
    "            x=[ciudades[ciudad_actual, 0], ciudades[ciudad_siguiente, 0]],\n",
    "            y=[ciudades[ciudad_actual, 1], ciudades[ciudad_siguiente, 1]],\n",
    "            mode='lines+markers',\n",
    "            line=dict(color=color_hex, width=2),\n",
    "            marker=dict(size=8, color=color_hex),  # Los puntos ahora toman el color interpolado\n",
    "            showlegend=False\n",
    "        ))\n",
    "\n",
    "        # Graficar cada ciudad de la ruta con el color interpolado\n",
    "        fig.add_trace(go.Scatter(\n",
    "            x=[ciudades[ciudad_actual, 0]],\n",
    "            y=[ciudades[ciudad_actual, 1]],\n",
    "            mode='markers',\n",
    "            marker=dict(size=10, color=color_hex),  # Puntos con el color interpolado\n",
    "            showlegend=False\n",
    "        ))\n",
    "\n",
    "    # Marcar la ciudad de inicio/final con un color distinto\n",
    "    fig.add_trace(go.Scatter(\n",
    "        x=[ciudades[ruta[0], 0]], y=[ciudades[ruta[0], 1]],\n",
    "        mode='markers',\n",
    "        marker=dict(size=12, color='lightgreen'),\n",
    "        name='Inicio/Final'\n",
    "    ))\n",
    "    # Añadir una escala de colores como barra de color (colorbar)\n",
    "    fig.add_trace(go.Scatter(\n",
    "        x=[None], y=[None],  # Elemento invisible\n",
    "        mode='markers',\n",
    "        marker=dict(\n",
    "            colorscale=[[0, rgb_a_hex(color_inicio)], [1, rgb_a_hex(color_fin)]],\n",
    "            cmin=0, cmax=1,\n",
    "            colorbar=dict(\n",
    "                title=\"Progreso en la ruta\",  # Título de la barra de colores\n",
    "                titleside=\"right\",\n",
    "                tickvals=[0, 1],\n",
    "                ticktext=[\"Inicio\", \"Final\"],\n",
    "            ),\n",
    "            showscale=True\n",
    "        ),\n",
    "        hoverinfo='none',\n",
    "        showlegend=False\n",
    "    ))\n",
    "\n",
    "    # Formato de la gráfica personalizado\n",
    "    fig.update_layout(\n",
    "        title={'text': f'<b>{titulo}</b>', 'x': 0.5, 'xanchor': 'center'},  # Centrar título y formato en negrita\n",
    "        xaxis_title='Coordenada X',\n",
    "        yaxis_title='Coordenada Y',\n",
    "        template='plotly_dark',  # Tema oscuro\n",
    "        showlegend=True,\n",
    "\n",
    "        # Ejes en negrita\n",
    "        xaxis=dict(\n",
    "            title='Longitud',\n",
    "            titlefont=dict(size=14),\n",
    "            tickfont=dict(size=12, family='Arial', color='white'),\n",
    "        ),\n",
    "        yaxis=dict(\n",
    "            title='Latitud',\n",
    "            titlefont=dict(size=14),\n",
    "            tickfont=dict(size=12, family='Arial', color='white'),\n",
    "        ),\n",
    "\n",
    "        # Leyenda en la parte inferior\n",
    "        legend=dict(\n",
    "            orientation=\"h\",  # Horizontal\n",
    "            yanchor=\"bottom\", y=-0.3,\n",
    "            xanchor=\"center\", x=0.5\n",
    "        )\n",
    "    )\n",
    "\n",
    "    # Mostrar la gráfica\n",
    "    fig.show()\n"
   ]
  },
  {
   "cell_type": "markdown",
   "metadata": {
    "id": "7qimChJY-HHO"
   },
   "source": [
    "# **Generación del Problema y Graficación**\n",
    "\n",
    " Se lee el csv donde se guarda la información y se guarda como “Coordenadas_reto.csv”, posteriormente se aplicar el **Algoritmo de Colonia de Hormigas** y finalmente se grafica la mejor ruta obtenidad."
   ]
  },
  {
   "cell_type": "code",
   "execution_count": 10,
   "metadata": {
    "colab": {
     "base_uri": "https://localhost:8080/",
     "height": 597
    },
    "id": "CQSenuTD3ZU5",
    "outputId": "543f5f49-3a26-4043-cd65-62a9b21ece6c"
   },
   "outputs": [
    {
     "name": "stdout",
     "output_type": "stream",
     "text": [
      "Mejor ruta: [8, np.int64(7), np.int64(9), np.int64(5), np.int64(17), np.int64(4), np.int64(48), np.int64(41), np.int64(42), np.int64(38), np.int64(44), np.int64(2), np.int64(3), np.int64(47), np.int64(37), np.int64(39), np.int64(46), np.int64(49), np.int64(0), np.int64(19), np.int64(21), np.int64(22), np.int64(23), np.int64(24), np.int64(25), np.int64(28), np.int64(15), np.int64(14), np.int64(13), np.int64(12), np.int64(6), np.int64(32), np.int64(43), np.int64(45), np.int64(1), np.int64(10), np.int64(20), np.int64(18), np.int64(16), np.int64(64), np.int64(63), np.int64(62), np.int64(61), np.int64(60), np.int64(70), np.int64(69), np.int64(65), np.int64(66), np.int64(67), np.int64(68), np.int64(59), np.int64(58), np.int64(57), np.int64(55), np.int64(56), np.int64(53), np.int64(50), np.int64(54), np.int64(52), np.int64(51), np.int64(27), np.int64(26), np.int64(30), np.int64(29), np.int64(31), np.int64(33), np.int64(36), np.int64(35), np.int64(34), np.int64(40), np.int64(11), 8]\n",
      "Mejor distancia: 1727.2959719009534\n"
     ]
    },
    {
     "data": {
      "application/vnd.plotly.v1+json": {
       "config": {
        "plotlyServerURL": "https://plot.ly"
       },
       "data": [
        {
         "line": {
          "color": "#006994",
          "width": 2
         },
         "marker": {
          "color": "#006994",
          "size": 8
         },
         "mode": "lines+markers",
         "showlegend": false,
         "type": "scatter",
         "x": [
          286.4450357,
          286.4439238
         ],
         "y": [
          58.63894345,
          58.63905464
         ]
        },
        {
         "marker": {
          "color": "#006994",
          "size": 10
         },
         "mode": "markers",
         "showlegend": false,
         "type": "scatter",
         "x": [
          286.4450357
         ],
         "y": [
          58.63894345
         ]
        },
        {
         "line": {
          "color": "#026a93",
          "width": 2
         },
         "marker": {
          "color": "#026a93",
          "size": 8
         },
         "mode": "lines+markers",
         "showlegend": false,
         "type": "scatter",
         "x": [
          286.4439238,
          286.4461477
         ],
         "y": [
          58.63905464,
          58.63883225
         ]
        },
        {
         "marker": {
          "color": "#026a93",
          "size": 10
         },
         "mode": "markers",
         "showlegend": false,
         "type": "scatter",
         "x": [
          286.4439238
         ],
         "y": [
          58.63905464
         ]
        },
        {
         "line": {
          "color": "#046c93",
          "width": 2
         },
         "marker": {
          "color": "#046c93",
          "size": 8
         },
         "mode": "lines+markers",
         "showlegend": false,
         "type": "scatter",
         "x": [
          286.4461477,
          255.945308
         ],
         "y": [
          58.63883225,
          58.8225267
         ]
        },
        {
         "marker": {
          "color": "#046c93",
          "size": 10
         },
         "mode": "markers",
         "showlegend": false,
         "type": "scatter",
         "x": [
          286.4461477
         ],
         "y": [
          58.63883225
         ]
        },
        {
         "line": {
          "color": "#066e93",
          "width": 2
         },
         "marker": {
          "color": "#066e93",
          "size": 8
         },
         "mode": "lines+markers",
         "showlegend": false,
         "type": "scatter",
         "x": [
          255.945308,
          192.0689947
         ],
         "y": [
          58.8225267,
          10.38787051
         ]
        },
        {
         "marker": {
          "color": "#066e93",
          "size": 10
         },
         "mode": "markers",
         "showlegend": false,
         "type": "scatter",
         "x": [
          255.945308
         ],
         "y": [
          58.8225267
         ]
        },
        {
         "line": {
          "color": "#087093",
          "width": 2
         },
         "marker": {
          "color": "#087093",
          "size": 8
         },
         "mode": "lines+markers",
         "showlegend": false,
         "type": "scatter",
         "x": [
          192.0689947,
          198.8510274
         ],
         "y": [
          10.38787051,
          68.58968951
         ]
        },
        {
         "marker": {
          "color": "#087093",
          "size": 10
         },
         "mode": "markers",
         "showlegend": false,
         "type": "scatter",
         "x": [
          192.0689947
         ],
         "y": [
          10.38787051
         ]
        },
        {
         "line": {
          "color": "#0a7293",
          "width": 2
         },
         "marker": {
          "color": "#0a7293",
          "size": 8
         },
         "mode": "lines+markers",
         "showlegend": false,
         "type": "scatter",
         "x": [
          198.8510274,
          195.6051022
         ],
         "y": [
          68.58968951,
          81.32695117
         ]
        },
        {
         "marker": {
          "color": "#0a7293",
          "size": 10
         },
         "mode": "markers",
         "showlegend": false,
         "type": "scatter",
         "x": [
          198.8510274
         ],
         "y": [
          68.58968951
         ]
        },
        {
         "line": {
          "color": "#0c7493",
          "width": 2
         },
         "marker": {
          "color": "#0c7493",
          "size": 8
         },
         "mode": "lines+markers",
         "showlegend": false,
         "type": "scatter",
         "x": [
          195.6051022,
          186.5722793
         ],
         "y": [
          81.32695117,
          91.4727451
         ]
        },
        {
         "marker": {
          "color": "#0c7493",
          "size": 10
         },
         "mode": "markers",
         "showlegend": false,
         "type": "scatter",
         "x": [
          195.6051022
         ],
         "y": [
          81.32695117
         ]
        },
        {
         "line": {
          "color": "#0e7693",
          "width": 2
         },
         "marker": {
          "color": "#0e7693",
          "size": 8
         },
         "mode": "lines+markers",
         "showlegend": false,
         "type": "scatter",
         "x": [
          186.5722793,
          185.4046449
         ],
         "y": [
          91.4727451,
          90.82270916
         ]
        },
        {
         "marker": {
          "color": "#0e7693",
          "size": 10
         },
         "mode": "markers",
         "showlegend": false,
         "type": "scatter",
         "x": [
          186.5722793
         ],
         "y": [
          91.4727451
         ]
        },
        {
         "line": {
          "color": "#107793",
          "width": 2
         },
         "marker": {
          "color": "#107793",
          "size": 8
         },
         "mode": "lines+markers",
         "showlegend": false,
         "type": "scatter",
         "x": [
          185.4046449,
          174.8407856
         ],
         "y": [
          90.82270916,
          89.05783405
         ]
        },
        {
         "marker": {
          "color": "#107793",
          "size": 10
         },
         "mode": "markers",
         "showlegend": false,
         "type": "scatter",
         "x": [
          185.4046449
         ],
         "y": [
          90.82270916
         ]
        },
        {
         "line": {
          "color": "#127993",
          "width": 2
         },
         "marker": {
          "color": "#127993",
          "size": 8
         },
         "mode": "lines+markers",
         "showlegend": false,
         "type": "scatter",
         "x": [
          174.8407856,
          168.5771226
         ],
         "y": [
          89.05783405,
          78.67378543
         ]
        },
        {
         "marker": {
          "color": "#127993",
          "size": 10
         },
         "mode": "markers",
         "showlegend": false,
         "type": "scatter",
         "x": [
          174.8407856
         ],
         "y": [
          89.05783405
         ]
        },
        {
         "line": {
          "color": "#147b93",
          "width": 2
         },
         "marker": {
          "color": "#147b93",
          "size": 8
         },
         "mode": "lines+markers",
         "showlegend": false,
         "type": "scatter",
         "x": [
          168.5771226,
          167.3127367
         ],
         "y": [
          78.67378543,
          74.58444441
         ]
        },
        {
         "marker": {
          "color": "#147b93",
          "size": 10
         },
         "mode": "markers",
         "showlegend": false,
         "type": "scatter",
         "x": [
          168.5771226
         ],
         "y": [
          78.67378543
         ]
        },
        {
         "line": {
          "color": "#167d93",
          "width": 2
         },
         "marker": {
          "color": "#167d93",
          "size": 8
         },
         "mode": "lines+markers",
         "showlegend": false,
         "type": "scatter",
         "x": [
          167.3127367,
          170.492919
         ],
         "y": [
          74.58444441,
          62.57280676
         ]
        },
        {
         "marker": {
          "color": "#167d93",
          "size": 10
         },
         "mode": "markers",
         "showlegend": false,
         "type": "scatter",
         "x": [
          167.3127367
         ],
         "y": [
          74.58444441
         ]
        },
        {
         "line": {
          "color": "#187f93",
          "width": 2
         },
         "marker": {
          "color": "#187f93",
          "size": 8
         },
         "mode": "lines+markers",
         "showlegend": false,
         "type": "scatter",
         "x": [
          170.492919,
          143.6871888
         ],
         "y": [
          62.57280676,
          60.40873969
         ]
        },
        {
         "marker": {
          "color": "#187f93",
          "size": 10
         },
         "mode": "markers",
         "showlegend": false,
         "type": "scatter",
         "x": [
          170.492919
         ],
         "y": [
          62.57280676
         ]
        },
        {
         "line": {
          "color": "#1a8193",
          "width": 2
         },
         "marker": {
          "color": "#1a8193",
          "size": 8
         },
         "mode": "lines+markers",
         "showlegend": false,
         "type": "scatter",
         "x": [
          143.6871888,
          149.3372684
         ],
         "y": [
          60.40873969,
          78.32914244
         ]
        },
        {
         "marker": {
          "color": "#1a8193",
          "size": 10
         },
         "mode": "markers",
         "showlegend": false,
         "type": "scatter",
         "x": [
          143.6871888
         ],
         "y": [
          60.40873969
         ]
        },
        {
         "line": {
          "color": "#1c8393",
          "width": 2
         },
         "marker": {
          "color": "#1c8393",
          "size": 8
         },
         "mode": "lines+markers",
         "showlegend": false,
         "type": "scatter",
         "x": [
          149.3372684,
          136.6068757
         ],
         "y": [
          78.32914244,
          69.53472089
         ]
        },
        {
         "marker": {
          "color": "#1c8393",
          "size": 10
         },
         "mode": "markers",
         "showlegend": false,
         "type": "scatter",
         "x": [
          149.3372684
         ],
         "y": [
          78.32914244
         ]
        },
        {
         "line": {
          "color": "#1e8593",
          "width": 2
         },
         "marker": {
          "color": "#1e8593",
          "size": 8
         },
         "mode": "lines+markers",
         "showlegend": false,
         "type": "scatter",
         "x": [
          136.6068757,
          137.1390131
         ],
         "y": [
          69.53472089,
          59.08284542
         ]
        },
        {
         "marker": {
          "color": "#1e8593",
          "size": 10
         },
         "mode": "markers",
         "showlegend": false,
         "type": "scatter",
         "x": [
          136.6068757
         ],
         "y": [
          69.53472089
         ]
        },
        {
         "line": {
          "color": "#208693",
          "width": 2
         },
         "marker": {
          "color": "#208693",
          "size": 8
         },
         "mode": "lines+markers",
         "showlegend": false,
         "type": "scatter",
         "x": [
          137.1390131,
          108.7322973
         ],
         "y": [
          59.08284542,
          38.12538389
         ]
        },
        {
         "marker": {
          "color": "#208693",
          "size": 10
         },
         "mode": "markers",
         "showlegend": false,
         "type": "scatter",
         "x": [
          137.1390131
         ],
         "y": [
          59.08284542
         ]
        },
        {
         "line": {
          "color": "#228893",
          "width": 2
         },
         "marker": {
          "color": "#228893",
          "size": 8
         },
         "mode": "lines+markers",
         "showlegend": false,
         "type": "scatter",
         "x": [
          108.7322973,
          117.0925425
         ],
         "y": [
          38.12538389,
          75.95959528
         ]
        },
        {
         "marker": {
          "color": "#228893",
          "size": 10
         },
         "mode": "markers",
         "showlegend": false,
         "type": "scatter",
         "x": [
          108.7322973
         ],
         "y": [
          38.12538389
         ]
        },
        {
         "line": {
          "color": "#248a92",
          "width": 2
         },
         "marker": {
          "color": "#248a92",
          "size": 8
         },
         "mode": "lines+markers",
         "showlegend": false,
         "type": "scatter",
         "x": [
          117.0925425,
          152.5391058
         ],
         "y": [
          75.95959528,
          99.90347722
         ]
        },
        {
         "marker": {
          "color": "#248a92",
          "size": 10
         },
         "mode": "markers",
         "showlegend": false,
         "type": "scatter",
         "x": [
          117.0925425
         ],
         "y": [
          75.95959528
         ]
        },
        {
         "line": {
          "color": "#268c92",
          "width": 2
         },
         "marker": {
          "color": "#268c92",
          "size": 8
         },
         "mode": "lines+markers",
         "showlegend": false,
         "type": "scatter",
         "x": [
          152.5391058,
          99.43614491
         ],
         "y": [
          99.90347722,
          124.7437051
         ]
        },
        {
         "marker": {
          "color": "#268c92",
          "size": 10
         },
         "mode": "markers",
         "showlegend": false,
         "type": "scatter",
         "x": [
          152.5391058
         ],
         "y": [
          99.90347722
         ]
        },
        {
         "line": {
          "color": "#288e92",
          "width": 2
         },
         "marker": {
          "color": "#288e92",
          "size": 8
         },
         "mode": "lines+markers",
         "showlegend": false,
         "type": "scatter",
         "x": [
          99.43614491,
          99.43651014
         ],
         "y": [
          124.7437051,
          124.7433608
         ]
        },
        {
         "marker": {
          "color": "#288e92",
          "size": 10
         },
         "mode": "markers",
         "showlegend": false,
         "type": "scatter",
         "x": [
          99.43614491
         ],
         "y": [
          124.7437051
         ]
        },
        {
         "line": {
          "color": "#2a9092",
          "width": 2
         },
         "marker": {
          "color": "#2a9092",
          "size": 8
         },
         "mode": "lines+markers",
         "showlegend": false,
         "type": "scatter",
         "x": [
          99.43651014,
          99.43687536
         ],
         "y": [
          124.7433608,
          124.7430165
         ]
        },
        {
         "marker": {
          "color": "#2a9092",
          "size": 10
         },
         "mode": "markers",
         "showlegend": false,
         "type": "scatter",
         "x": [
          99.43651014
         ],
         "y": [
          124.7433608
         ]
        },
        {
         "line": {
          "color": "#2c9292",
          "width": 2
         },
         "marker": {
          "color": "#2c9292",
          "size": 8
         },
         "mode": "lines+markers",
         "showlegend": false,
         "type": "scatter",
         "x": [
          99.43687536,
          99.43724059
         ],
         "y": [
          124.7430165,
          124.7426722
         ]
        },
        {
         "marker": {
          "color": "#2c9292",
          "size": 10
         },
         "mode": "markers",
         "showlegend": false,
         "type": "scatter",
         "x": [
          99.43687536
         ],
         "y": [
          124.7430165
         ]
        },
        {
         "line": {
          "color": "#2e9492",
          "width": 2
         },
         "marker": {
          "color": "#2e9492",
          "size": 8
         },
         "mode": "lines+markers",
         "showlegend": false,
         "type": "scatter",
         "x": [
          99.43724059,
          99.43760582
         ],
         "y": [
          124.7426722,
          124.7423279
         ]
        },
        {
         "marker": {
          "color": "#2e9492",
          "size": 10
         },
         "mode": "markers",
         "showlegend": false,
         "type": "scatter",
         "x": [
          99.43724059
         ],
         "y": [
          124.7426722
         ]
        },
        {
         "line": {
          "color": "#309592",
          "width": 2
         },
         "marker": {
          "color": "#309592",
          "size": 8
         },
         "mode": "lines+markers",
         "showlegend": false,
         "type": "scatter",
         "x": [
          99.43760582,
          91.73713529
         ],
         "y": [
          124.7423279,
          104.2379635
         ]
        },
        {
         "marker": {
          "color": "#309592",
          "size": 10
         },
         "mode": "markers",
         "showlegend": false,
         "type": "scatter",
         "x": [
          99.43760582
         ],
         "y": [
          124.7423279
         ]
        },
        {
         "line": {
          "color": "#329792",
          "width": 2
         },
         "marker": {
          "color": "#329792",
          "size": 8
         },
         "mode": "lines+markers",
         "showlegend": false,
         "type": "scatter",
         "x": [
          91.73713529,
          59.65795309
         ],
         "y": [
          104.2379635,
          75.31888862
         ]
        },
        {
         "marker": {
          "color": "#329792",
          "size": 10
         },
         "mode": "markers",
         "showlegend": false,
         "type": "scatter",
         "x": [
          91.73713529
         ],
         "y": [
          104.2379635
         ]
        },
        {
         "line": {
          "color": "#349992",
          "width": 2
         },
         "marker": {
          "color": "#349992",
          "size": 8
         },
         "mode": "lines+markers",
         "showlegend": false,
         "type": "scatter",
         "x": [
          59.65795309,
          59.4127677
         ],
         "y": [
          75.31888862,
          76.70371347
         ]
        },
        {
         "marker": {
          "color": "#349992",
          "size": 10
         },
         "mode": "markers",
         "showlegend": false,
         "type": "scatter",
         "x": [
          59.65795309
         ],
         "y": [
          75.31888862
         ]
        },
        {
         "line": {
          "color": "#369b92",
          "width": 2
         },
         "marker": {
          "color": "#369b92",
          "size": 8
         },
         "mode": "lines+markers",
         "showlegend": false,
         "type": "scatter",
         "x": [
          59.4127677,
          52.95377289
         ],
         "y": [
          76.70371347,
          78.26433792
         ]
        },
        {
         "marker": {
          "color": "#369b92",
          "size": 10
         },
         "mode": "markers",
         "showlegend": false,
         "type": "scatter",
         "x": [
          59.4127677
         ],
         "y": [
          76.70371347
         ]
        },
        {
         "line": {
          "color": "#389d92",
          "width": 2
         },
         "marker": {
          "color": "#389d92",
          "size": 8
         },
         "mode": "lines+markers",
         "showlegend": false,
         "type": "scatter",
         "x": [
          52.95377289,
          44.52573372
         ],
         "y": [
          78.26433792,
          70.518926
         ]
        },
        {
         "marker": {
          "color": "#389d92",
          "size": 10
         },
         "mode": "markers",
         "showlegend": false,
         "type": "scatter",
         "x": [
          52.95377289
         ],
         "y": [
          78.26433792
         ]
        },
        {
         "line": {
          "color": "#3a9f92",
          "width": 2
         },
         "marker": {
          "color": "#3a9f92",
          "size": 8
         },
         "mode": "lines+markers",
         "showlegend": false,
         "type": "scatter",
         "x": [
          44.52573372,
          26.32864142
         ],
         "y": [
          70.518926,
          56.84325238
         ]
        },
        {
         "marker": {
          "color": "#3a9f92",
          "size": 10
         },
         "mode": "markers",
         "showlegend": false,
         "type": "scatter",
         "x": [
          44.52573372
         ],
         "y": [
          70.518926
         ]
        },
        {
         "line": {
          "color": "#3ca192",
          "width": 2
         },
         "marker": {
          "color": "#3ca192",
          "size": 8
         },
         "mode": "lines+markers",
         "showlegend": false,
         "type": "scatter",
         "x": [
          26.32864142,
          39.95435631
         ],
         "y": [
          56.84325238,
          24.15236568
         ]
        },
        {
         "marker": {
          "color": "#3ca192",
          "size": 10
         },
         "mode": "markers",
         "showlegend": false,
         "type": "scatter",
         "x": [
          26.32864142
         ],
         "y": [
          56.84325238
         ]
        },
        {
         "line": {
          "color": "#3ea392",
          "width": 2
         },
         "marker": {
          "color": "#3ea392",
          "size": 8
         },
         "mode": "lines+markers",
         "showlegend": false,
         "type": "scatter",
         "x": [
          39.95435631,
          46.78960133
         ],
         "y": [
          24.15236568,
          22.39299935
         ]
        },
        {
         "marker": {
          "color": "#3ea392",
          "size": 10
         },
         "mode": "markers",
         "showlegend": false,
         "type": "scatter",
         "x": [
          39.95435631
         ],
         "y": [
          24.15236568
         ]
        },
        {
         "line": {
          "color": "#40a492",
          "width": 2
         },
         "marker": {
          "color": "#40a492",
          "size": 8
         },
         "mode": "lines+markers",
         "showlegend": false,
         "type": "scatter",
         "x": [
          46.78960133,
          66.58533283
         ],
         "y": [
          22.39299935,
          30.84036782
         ]
        },
        {
         "marker": {
          "color": "#40a492",
          "size": 10
         },
         "mode": "markers",
         "showlegend": false,
         "type": "scatter",
         "x": [
          46.78960133
         ],
         "y": [
          22.39299935
         ]
        },
        {
         "line": {
          "color": "#42a692",
          "width": 2
         },
         "marker": {
          "color": "#42a692",
          "size": 8
         },
         "mode": "lines+markers",
         "showlegend": false,
         "type": "scatter",
         "x": [
          66.58533283,
          74.25126102
         ],
         "y": [
          30.84036782,
          33.98474666
         ]
        },
        {
         "marker": {
          "color": "#42a692",
          "size": 10
         },
         "mode": "markers",
         "showlegend": false,
         "type": "scatter",
         "x": [
          66.58533283
         ],
         "y": [
          30.84036782
         ]
        },
        {
         "line": {
          "color": "#44a892",
          "width": 2
         },
         "marker": {
          "color": "#44a892",
          "size": 8
         },
         "mode": "lines+markers",
         "showlegend": false,
         "type": "scatter",
         "x": [
          74.25126102,
          42.00972023
         ],
         "y": [
          33.98474666,
          83.72246485
         ]
        },
        {
         "marker": {
          "color": "#44a892",
          "size": 10
         },
         "mode": "markers",
         "showlegend": false,
         "type": "scatter",
         "x": [
          74.25126102
         ],
         "y": [
          33.98474666
         ]
        },
        {
         "line": {
          "color": "#46aa92",
          "width": 2
         },
         "marker": {
          "color": "#46aa92",
          "size": 8
         },
         "mode": "lines+markers",
         "showlegend": false,
         "type": "scatter",
         "x": [
          42.00972023,
          12.18192116
         ],
         "y": [
          83.72246485,
          93.34907694
         ]
        },
        {
         "marker": {
          "color": "#46aa92",
          "size": 10
         },
         "mode": "markers",
         "showlegend": false,
         "type": "scatter",
         "x": [
          42.00972023
         ],
         "y": [
          83.72246485
         ]
        },
        {
         "line": {
          "color": "#49ac91",
          "width": 2
         },
         "marker": {
          "color": "#49ac91",
          "size": 8
         },
         "mode": "lines+markers",
         "showlegend": false,
         "type": "scatter",
         "x": [
          12.18192116,
          16.32038362
         ],
         "y": [
          93.34907694,
          101.1912287
         ]
        },
        {
         "marker": {
          "color": "#49ac91",
          "size": 10
         },
         "mode": "markers",
         "showlegend": false,
         "type": "scatter",
         "x": [
          12.18192116
         ],
         "y": [
          93.34907694
         ]
        },
        {
         "line": {
          "color": "#4bae91",
          "width": 2
         },
         "marker": {
          "color": "#4bae91",
          "size": 8
         },
         "mode": "lines+markers",
         "showlegend": false,
         "type": "scatter",
         "x": [
          16.32038362,
          24.771329
         ],
         "y": [
          101.1912287,
          112.3471082
         ]
        },
        {
         "marker": {
          "color": "#4bae91",
          "size": 10
         },
         "mode": "markers",
         "showlegend": false,
         "type": "scatter",
         "x": [
          16.32038362
         ],
         "y": [
          101.1912287
         ]
        },
        {
         "line": {
          "color": "#4db091",
          "width": 2
         },
         "marker": {
          "color": "#4db091",
          "size": 8
         },
         "mode": "lines+markers",
         "showlegend": false,
         "type": "scatter",
         "x": [
          24.771329,
          21.35597168
         ],
         "y": [
          112.3471082,
          149.6593996
         ]
        },
        {
         "marker": {
          "color": "#4db091",
          "size": 10
         },
         "mode": "markers",
         "showlegend": false,
         "type": "scatter",
         "x": [
          24.771329
         ],
         "y": [
          112.3471082
         ]
        },
        {
         "line": {
          "color": "#4fb291",
          "width": 2
         },
         "marker": {
          "color": "#4fb291",
          "size": 8
         },
         "mode": "lines+markers",
         "showlegend": false,
         "type": "scatter",
         "x": [
          21.35597168,
          28.67128604
         ],
         "y": [
          149.6593996,
          182.9777038
         ]
        },
        {
         "marker": {
          "color": "#4fb291",
          "size": 10
         },
         "mode": "markers",
         "showlegend": false,
         "type": "scatter",
         "x": [
          21.35597168
         ],
         "y": [
          149.6593996
         ]
        },
        {
         "line": {
          "color": "#51b391",
          "width": 2
         },
         "marker": {
          "color": "#51b391",
          "size": 8
         },
         "mode": "lines+markers",
         "showlegend": false,
         "type": "scatter",
         "x": [
          28.67128604,
          31.27624996
         ],
         "y": [
          182.9777038,
          196.334828
         ]
        },
        {
         "marker": {
          "color": "#51b391",
          "size": 10
         },
         "mode": "markers",
         "showlegend": false,
         "type": "scatter",
         "x": [
          28.67128604
         ],
         "y": [
          182.9777038
         ]
        },
        {
         "line": {
          "color": "#53b591",
          "width": 2
         },
         "marker": {
          "color": "#53b591",
          "size": 8
         },
         "mode": "lines+markers",
         "showlegend": false,
         "type": "scatter",
         "x": [
          31.27624996,
          36.66142584
         ],
         "y": [
          196.334828,
          192.1259387
         ]
        },
        {
         "marker": {
          "color": "#53b591",
          "size": 10
         },
         "mode": "markers",
         "showlegend": false,
         "type": "scatter",
         "x": [
          31.27624996
         ],
         "y": [
          196.334828
         ]
        },
        {
         "line": {
          "color": "#55b791",
          "width": 2
         },
         "marker": {
          "color": "#55b791",
          "size": 8
         },
         "mode": "lines+markers",
         "showlegend": false,
         "type": "scatter",
         "x": [
          36.66142584,
          46.9841893
         ],
         "y": [
          192.1259387,
          197.2628728
         ]
        },
        {
         "marker": {
          "color": "#55b791",
          "size": 10
         },
         "mode": "markers",
         "showlegend": false,
         "type": "scatter",
         "x": [
          36.66142584
         ],
         "y": [
          192.1259387
         ]
        },
        {
         "line": {
          "color": "#57b991",
          "width": 2
         },
         "marker": {
          "color": "#57b991",
          "size": 8
         },
         "mode": "lines+markers",
         "showlegend": false,
         "type": "scatter",
         "x": [
          46.9841893,
          32.37972659
         ],
         "y": [
          197.2628728,
          210.3522848
         ]
        },
        {
         "marker": {
          "color": "#57b991",
          "size": 10
         },
         "mode": "markers",
         "showlegend": false,
         "type": "scatter",
         "x": [
          46.9841893
         ],
         "y": [
          197.2628728
         ]
        },
        {
         "line": {
          "color": "#59bb91",
          "width": 2
         },
         "marker": {
          "color": "#59bb91",
          "size": 8
         },
         "mode": "lines+markers",
         "showlegend": false,
         "type": "scatter",
         "x": [
          32.37972659,
          29.54614833
         ],
         "y": [
          210.3522848,
          211.2551288
         ]
        },
        {
         "marker": {
          "color": "#59bb91",
          "size": 10
         },
         "mode": "markers",
         "showlegend": false,
         "type": "scatter",
         "x": [
          32.37972659
         ],
         "y": [
          210.3522848
         ]
        },
        {
         "line": {
          "color": "#5bbd91",
          "width": 2
         },
         "marker": {
          "color": "#5bbd91",
          "size": 8
         },
         "mode": "lines+markers",
         "showlegend": false,
         "type": "scatter",
         "x": [
          29.54614833,
          19.05467921
         ],
         "y": [
          211.2551288,
          210.9530851
         ]
        },
        {
         "marker": {
          "color": "#5bbd91",
          "size": 10
         },
         "mode": "markers",
         "showlegend": false,
         "type": "scatter",
         "x": [
          29.54614833
         ],
         "y": [
          211.2551288
         ]
        },
        {
         "line": {
          "color": "#5dbf91",
          "width": 2
         },
         "marker": {
          "color": "#5dbf91",
          "size": 8
         },
         "mode": "lines+markers",
         "showlegend": false,
         "type": "scatter",
         "x": [
          19.05467921,
          19.05467921
         ],
         "y": [
          210.9530851,
          210.9713465
         ]
        },
        {
         "marker": {
          "color": "#5dbf91",
          "size": 10
         },
         "mode": "markers",
         "showlegend": false,
         "type": "scatter",
         "x": [
          19.05467921
         ],
         "y": [
          210.9530851
         ]
        },
        {
         "line": {
          "color": "#5fc191",
          "width": 2
         },
         "marker": {
          "color": "#5fc191",
          "size": 8
         },
         "mode": "lines+markers",
         "showlegend": false,
         "type": "scatter",
         "x": [
          19.05467921,
          18.22113207
         ],
         "y": [
          210.9713465,
          204.8008168
         ]
        },
        {
         "marker": {
          "color": "#5fc191",
          "size": 10
         },
         "mode": "markers",
         "showlegend": false,
         "type": "scatter",
         "x": [
          19.05467921
         ],
         "y": [
          210.9713465
         ]
        },
        {
         "line": {
          "color": "#61c291",
          "width": 2
         },
         "marker": {
          "color": "#61c291",
          "size": 8
         },
         "mode": "lines+markers",
         "showlegend": false,
         "type": "scatter",
         "x": [
          18.22113207,
          12.4114359
         ],
         "y": [
          204.8008168,
          211.2291976
         ]
        },
        {
         "marker": {
          "color": "#61c291",
          "size": 10
         },
         "mode": "markers",
         "showlegend": false,
         "type": "scatter",
         "x": [
          18.22113207
         ],
         "y": [
          204.8008168
         ]
        },
        {
         "line": {
          "color": "#63c491",
          "width": 2
         },
         "marker": {
          "color": "#63c491",
          "size": 8
         },
         "mode": "lines+markers",
         "showlegend": false,
         "type": "scatter",
         "x": [
          12.4114359,
          60.03138832
         ],
         "y": [
          211.2291976,
          250.8049558
         ]
        },
        {
         "marker": {
          "color": "#63c491",
          "size": 10
         },
         "mode": "markers",
         "showlegend": false,
         "type": "scatter",
         "x": [
          12.4114359
         ],
         "y": [
          211.2291976
         ]
        },
        {
         "line": {
          "color": "#65c691",
          "width": 2
         },
         "marker": {
          "color": "#65c691",
          "size": 8
         },
         "mode": "lines+markers",
         "showlegend": false,
         "type": "scatter",
         "x": [
          60.03138832,
          65.17624371
         ],
         "y": [
          250.8049558,
          266.6668148
         ]
        },
        {
         "marker": {
          "color": "#65c691",
          "size": 10
         },
         "mode": "markers",
         "showlegend": false,
         "type": "scatter",
         "x": [
          60.03138832
         ],
         "y": [
          250.8049558
         ]
        },
        {
         "line": {
          "color": "#67c891",
          "width": 2
         },
         "marker": {
          "color": "#67c891",
          "size": 8
         },
         "mode": "lines+markers",
         "showlegend": false,
         "type": "scatter",
         "x": [
          65.17624371,
          76.53190325
         ],
         "y": [
          266.6668148,
          279.2646297
         ]
        },
        {
         "marker": {
          "color": "#67c891",
          "size": 10
         },
         "mode": "markers",
         "showlegend": false,
         "type": "scatter",
         "x": [
          65.17624371
         ],
         "y": [
          266.6668148
         ]
        },
        {
         "line": {
          "color": "#69ca91",
          "width": 2
         },
         "marker": {
          "color": "#69ca91",
          "size": 8
         },
         "mode": "lines+markers",
         "showlegend": false,
         "type": "scatter",
         "x": [
          76.53190325,
          90.93598343
         ],
         "y": [
          279.2646297,
          283.1762233
         ]
        },
        {
         "marker": {
          "color": "#69ca91",
          "size": 10
         },
         "mode": "markers",
         "showlegend": false,
         "type": "scatter",
         "x": [
          76.53190325
         ],
         "y": [
          279.2646297
         ]
        },
        {
         "line": {
          "color": "#6bcc91",
          "width": 2
         },
         "marker": {
          "color": "#6bcc91",
          "size": 8
         },
         "mode": "lines+markers",
         "showlegend": false,
         "type": "scatter",
         "x": [
          90.93598343,
          90.59616062
         ],
         "y": [
          283.1762233,
          294.1611907
         ]
        },
        {
         "marker": {
          "color": "#6bcc91",
          "size": 10
         },
         "mode": "markers",
         "showlegend": false,
         "type": "scatter",
         "x": [
          90.93598343
         ],
         "y": [
          283.1762233
         ]
        },
        {
         "line": {
          "color": "#6dce90",
          "width": 2
         },
         "marker": {
          "color": "#6dce90",
          "size": 8
         },
         "mode": "lines+markers",
         "showlegend": false,
         "type": "scatter",
         "x": [
          90.59616062,
          104.2197157
         ],
         "y": [
          294.1611907,
          287.817908
         ]
        },
        {
         "marker": {
          "color": "#6dce90",
          "size": 10
         },
         "mode": "markers",
         "showlegend": false,
         "type": "scatter",
         "x": [
          90.59616062
         ],
         "y": [
          294.1611907
         ]
        },
        {
         "line": {
          "color": "#6fd090",
          "width": 2
         },
         "marker": {
          "color": "#6fd090",
          "size": 8
         },
         "mode": "lines+markers",
         "showlegend": false,
         "type": "scatter",
         "x": [
          104.2197157,
          111.1731721
         ],
         "y": [
          287.817908,
          281.9570917
         ]
        },
        {
         "marker": {
          "color": "#6fd090",
          "size": 10
         },
         "mode": "markers",
         "showlegend": false,
         "type": "scatter",
         "x": [
          104.2197157
         ],
         "y": [
          287.817908
         ]
        },
        {
         "line": {
          "color": "#71d190",
          "width": 2
         },
         "marker": {
          "color": "#71d190",
          "size": 8
         },
         "mode": "lines+markers",
         "showlegend": false,
         "type": "scatter",
         "x": [
          111.1731721,
          95.64530097
         ],
         "y": [
          281.9570917,
          268.2175736
         ]
        },
        {
         "marker": {
          "color": "#71d190",
          "size": 10
         },
         "mode": "markers",
         "showlegend": false,
         "type": "scatter",
         "x": [
          111.1731721
         ],
         "y": [
          281.9570917
         ]
        },
        {
         "line": {
          "color": "#73d390",
          "width": 2
         },
         "marker": {
          "color": "#73d390",
          "size": 8
         },
         "mode": "lines+markers",
         "showlegend": false,
         "type": "scatter",
         "x": [
          95.64530097,
          88.29865543
         ],
         "y": [
          268.2175736,
          243.334579
         ]
        },
        {
         "marker": {
          "color": "#73d390",
          "size": 10
         },
         "mode": "markers",
         "showlegend": false,
         "type": "scatter",
         "x": [
          95.64530097
         ],
         "y": [
          268.2175736
         ]
        },
        {
         "line": {
          "color": "#75d590",
          "width": 2
         },
         "marker": {
          "color": "#75d590",
          "size": 8
         },
         "mode": "lines+markers",
         "showlegend": false,
         "type": "scatter",
         "x": [
          88.29865543,
          87.18106187
         ],
         "y": [
          243.334579,
          227.3982135
         ]
        },
        {
         "marker": {
          "color": "#75d590",
          "size": 10
         },
         "mode": "markers",
         "showlegend": false,
         "type": "scatter",
         "x": [
          88.29865543
         ],
         "y": [
          243.334579
         ]
        },
        {
         "line": {
          "color": "#77d790",
          "width": 2
         },
         "marker": {
          "color": "#77d790",
          "size": 8
         },
         "mode": "lines+markers",
         "showlegend": false,
         "type": "scatter",
         "x": [
          87.18106187,
          146.3438584
         ],
         "y": [
          227.3982135,
          175.3445957
         ]
        },
        {
         "marker": {
          "color": "#77d790",
          "size": 10
         },
         "mode": "markers",
         "showlegend": false,
         "type": "scatter",
         "x": [
          87.18106187
         ],
         "y": [
          227.3982135
         ]
        },
        {
         "line": {
          "color": "#79d990",
          "width": 2
         },
         "marker": {
          "color": "#79d990",
          "size": 8
         },
         "mode": "lines+markers",
         "showlegend": false,
         "type": "scatter",
         "x": [
          146.3438584,
          151.20468
         ],
         "y": [
          175.3445957,
          183.4511084
         ]
        },
        {
         "marker": {
          "color": "#79d990",
          "size": 10
         },
         "mode": "markers",
         "showlegend": false,
         "type": "scatter",
         "x": [
          146.3438584
         ],
         "y": [
          175.3445957
         ]
        },
        {
         "line": {
          "color": "#7bdb90",
          "width": 2
         },
         "marker": {
          "color": "#7bdb90",
          "size": 8
         },
         "mode": "lines+markers",
         "showlegend": false,
         "type": "scatter",
         "x": [
          151.20468,
          186.3487597
         ],
         "y": [
          183.4511084,
          164.35768
         ]
        },
        {
         "marker": {
          "color": "#7bdb90",
          "size": 10
         },
         "mode": "markers",
         "showlegend": false,
         "type": "scatter",
         "x": [
          151.20468
         ],
         "y": [
          183.4511084
         ]
        },
        {
         "line": {
          "color": "#7ddd90",
          "width": 2
         },
         "marker": {
          "color": "#7ddd90",
          "size": 8
         },
         "mode": "lines+markers",
         "showlegend": false,
         "type": "scatter",
         "x": [
          186.3487597,
          186.3451074
         ],
         "y": [
          164.35768,
          164.3580243
         ]
        },
        {
         "marker": {
          "color": "#7ddd90",
          "size": 10
         },
         "mode": "markers",
         "showlegend": false,
         "type": "scatter",
         "x": [
          186.3487597
         ],
         "y": [
          164.35768
         ]
        },
        {
         "line": {
          "color": "#7fdf90",
          "width": 2
         },
         "marker": {
          "color": "#7fdf90",
          "size": 8
         },
         "mode": "lines+markers",
         "showlegend": false,
         "type": "scatter",
         "x": [
          186.3451074,
          197.7084511
         ],
         "y": [
          164.3580243,
          163.3726414
         ]
        },
        {
         "marker": {
          "color": "#7fdf90",
          "size": 10
         },
         "mode": "markers",
         "showlegend": false,
         "type": "scatter",
         "x": [
          186.3451074
         ],
         "y": [
          164.3580243
         ]
        },
        {
         "line": {
          "color": "#81e090",
          "width": 2
         },
         "marker": {
          "color": "#81e090",
          "size": 8
         },
         "mode": "lines+markers",
         "showlegend": false,
         "type": "scatter",
         "x": [
          197.7084511,
          196.2263553
         ],
         "y": [
          163.3726414,
          118.1452207
         ]
        },
        {
         "marker": {
          "color": "#81e090",
          "size": 10
         },
         "mode": "markers",
         "showlegend": false,
         "type": "scatter",
         "x": [
          197.7084511
         ],
         "y": [
          163.3726414
         ]
        },
        {
         "line": {
          "color": "#83e290",
          "width": 2
         },
         "marker": {
          "color": "#83e290",
          "size": 8
         },
         "mode": "lines+markers",
         "showlegend": false,
         "type": "scatter",
         "x": [
          196.2263553,
          220.7419303
         ],
         "y": [
          118.1452207,
          119.9465914
         ]
        },
        {
         "marker": {
          "color": "#83e290",
          "size": 10
         },
         "mode": "markers",
         "showlegend": false,
         "type": "scatter",
         "x": [
          196.2263553
         ],
         "y": [
          118.1452207
         ]
        },
        {
         "line": {
          "color": "#85e490",
          "width": 2
         },
         "marker": {
          "color": "#85e490",
          "size": 8
         },
         "mode": "lines+markers",
         "showlegend": false,
         "type": "scatter",
         "x": [
          220.7419303,
          220.7415651
         ],
         "y": [
          119.9465914,
          119.9469357
         ]
        },
        {
         "marker": {
          "color": "#85e490",
          "size": 10
         },
         "mode": "markers",
         "showlegend": false,
         "type": "scatter",
         "x": [
          220.7419303
         ],
         "y": [
          119.9465914
         ]
        },
        {
         "line": {
          "color": "#87e690",
          "width": 2
         },
         "marker": {
          "color": "#87e690",
          "size": 8
         },
         "mode": "lines+markers",
         "showlegend": false,
         "type": "scatter",
         "x": [
          220.7415651,
          230.7659824
         ],
         "y": [
          119.9469357,
          125.6678028
         ]
        },
        {
         "marker": {
          "color": "#87e690",
          "size": 10
         },
         "mode": "markers",
         "showlegend": false,
         "type": "scatter",
         "x": [
          220.7415651
         ],
         "y": [
          119.9469357
         ]
        },
        {
         "line": {
          "color": "#89e890",
          "width": 2
         },
         "marker": {
          "color": "#89e890",
          "size": 8
         },
         "mode": "lines+markers",
         "showlegend": false,
         "type": "scatter",
         "x": [
          230.7659824,
          260.6255758
         ],
         "y": [
          125.6678028,
          129.1614017
         ]
        },
        {
         "marker": {
          "color": "#89e890",
          "size": 10
         },
         "mode": "markers",
         "showlegend": false,
         "type": "scatter",
         "x": [
          230.7659824
         ],
         "y": [
          125.6678028
         ]
        },
        {
         "line": {
          "color": "#8bea90",
          "width": 2
         },
         "marker": {
          "color": "#8bea90",
          "size": 8
         },
         "mode": "lines+markers",
         "showlegend": false,
         "type": "scatter",
         "x": [
          260.6255758,
          439.3862313
         ],
         "y": [
          129.1614017,
          84.79205135
         ]
        },
        {
         "marker": {
          "color": "#8bea90",
          "size": 10
         },
         "mode": "markers",
         "showlegend": false,
         "type": "scatter",
         "x": [
          260.6255758
         ],
         "y": [
          129.1614017
         ]
        },
        {
         "line": {
          "color": "#8dec90",
          "width": 2
         },
         "marker": {
          "color": "#8dec90",
          "size": 8
         },
         "mode": "lines+markers",
         "showlegend": false,
         "type": "scatter",
         "x": [
          439.3862313,
          286.4450357
         ],
         "y": [
          84.79205135,
          58.63894345
         ]
        },
        {
         "marker": {
          "color": "#8dec90",
          "size": 10
         },
         "mode": "markers",
         "showlegend": false,
         "type": "scatter",
         "x": [
          439.3862313
         ],
         "y": [
          84.79205135
         ]
        },
        {
         "marker": {
          "color": "lightgreen",
          "size": 12
         },
         "mode": "markers",
         "name": "Inicio/Final",
         "type": "scatter",
         "x": [
          286.4450357
         ],
         "y": [
          58.63894345
         ]
        },
        {
         "hoverinfo": "none",
         "marker": {
          "cmax": 1,
          "cmin": 0,
          "colorbar": {
           "ticktext": [
            "Inicio",
            "Final"
           ],
           "tickvals": [
            0,
            1
           ],
           "title": {
            "side": "right",
            "text": "Progreso en la ruta"
           }
          },
          "colorscale": [
           [
            0,
            "#006994"
           ],
           [
            1,
            "#90ee90"
           ]
          ],
          "showscale": true
         },
         "mode": "markers",
         "showlegend": false,
         "type": "scatter",
         "x": [
          null
         ],
         "y": [
          null
         ]
        }
       ],
       "layout": {
        "legend": {
         "orientation": "h",
         "x": 0.5,
         "xanchor": "center",
         "y": -0.3,
         "yanchor": "bottom"
        },
        "showlegend": true,
        "template": {
         "data": {
          "bar": [
           {
            "error_x": {
             "color": "#f2f5fa"
            },
            "error_y": {
             "color": "#f2f5fa"
            },
            "marker": {
             "line": {
              "color": "rgb(17,17,17)",
              "width": 0.5
             },
             "pattern": {
              "fillmode": "overlay",
              "size": 10,
              "solidity": 0.2
             }
            },
            "type": "bar"
           }
          ],
          "barpolar": [
           {
            "marker": {
             "line": {
              "color": "rgb(17,17,17)",
              "width": 0.5
             },
             "pattern": {
              "fillmode": "overlay",
              "size": 10,
              "solidity": 0.2
             }
            },
            "type": "barpolar"
           }
          ],
          "carpet": [
           {
            "aaxis": {
             "endlinecolor": "#A2B1C6",
             "gridcolor": "#506784",
             "linecolor": "#506784",
             "minorgridcolor": "#506784",
             "startlinecolor": "#A2B1C6"
            },
            "baxis": {
             "endlinecolor": "#A2B1C6",
             "gridcolor": "#506784",
             "linecolor": "#506784",
             "minorgridcolor": "#506784",
             "startlinecolor": "#A2B1C6"
            },
            "type": "carpet"
           }
          ],
          "choropleth": [
           {
            "colorbar": {
             "outlinewidth": 0,
             "ticks": ""
            },
            "type": "choropleth"
           }
          ],
          "contour": [
           {
            "colorbar": {
             "outlinewidth": 0,
             "ticks": ""
            },
            "colorscale": [
             [
              0,
              "#0d0887"
             ],
             [
              0.1111111111111111,
              "#46039f"
             ],
             [
              0.2222222222222222,
              "#7201a8"
             ],
             [
              0.3333333333333333,
              "#9c179e"
             ],
             [
              0.4444444444444444,
              "#bd3786"
             ],
             [
              0.5555555555555556,
              "#d8576b"
             ],
             [
              0.6666666666666666,
              "#ed7953"
             ],
             [
              0.7777777777777778,
              "#fb9f3a"
             ],
             [
              0.8888888888888888,
              "#fdca26"
             ],
             [
              1,
              "#f0f921"
             ]
            ],
            "type": "contour"
           }
          ],
          "contourcarpet": [
           {
            "colorbar": {
             "outlinewidth": 0,
             "ticks": ""
            },
            "type": "contourcarpet"
           }
          ],
          "heatmap": [
           {
            "colorbar": {
             "outlinewidth": 0,
             "ticks": ""
            },
            "colorscale": [
             [
              0,
              "#0d0887"
             ],
             [
              0.1111111111111111,
              "#46039f"
             ],
             [
              0.2222222222222222,
              "#7201a8"
             ],
             [
              0.3333333333333333,
              "#9c179e"
             ],
             [
              0.4444444444444444,
              "#bd3786"
             ],
             [
              0.5555555555555556,
              "#d8576b"
             ],
             [
              0.6666666666666666,
              "#ed7953"
             ],
             [
              0.7777777777777778,
              "#fb9f3a"
             ],
             [
              0.8888888888888888,
              "#fdca26"
             ],
             [
              1,
              "#f0f921"
             ]
            ],
            "type": "heatmap"
           }
          ],
          "heatmapgl": [
           {
            "colorbar": {
             "outlinewidth": 0,
             "ticks": ""
            },
            "colorscale": [
             [
              0,
              "#0d0887"
             ],
             [
              0.1111111111111111,
              "#46039f"
             ],
             [
              0.2222222222222222,
              "#7201a8"
             ],
             [
              0.3333333333333333,
              "#9c179e"
             ],
             [
              0.4444444444444444,
              "#bd3786"
             ],
             [
              0.5555555555555556,
              "#d8576b"
             ],
             [
              0.6666666666666666,
              "#ed7953"
             ],
             [
              0.7777777777777778,
              "#fb9f3a"
             ],
             [
              0.8888888888888888,
              "#fdca26"
             ],
             [
              1,
              "#f0f921"
             ]
            ],
            "type": "heatmapgl"
           }
          ],
          "histogram": [
           {
            "marker": {
             "pattern": {
              "fillmode": "overlay",
              "size": 10,
              "solidity": 0.2
             }
            },
            "type": "histogram"
           }
          ],
          "histogram2d": [
           {
            "colorbar": {
             "outlinewidth": 0,
             "ticks": ""
            },
            "colorscale": [
             [
              0,
              "#0d0887"
             ],
             [
              0.1111111111111111,
              "#46039f"
             ],
             [
              0.2222222222222222,
              "#7201a8"
             ],
             [
              0.3333333333333333,
              "#9c179e"
             ],
             [
              0.4444444444444444,
              "#bd3786"
             ],
             [
              0.5555555555555556,
              "#d8576b"
             ],
             [
              0.6666666666666666,
              "#ed7953"
             ],
             [
              0.7777777777777778,
              "#fb9f3a"
             ],
             [
              0.8888888888888888,
              "#fdca26"
             ],
             [
              1,
              "#f0f921"
             ]
            ],
            "type": "histogram2d"
           }
          ],
          "histogram2dcontour": [
           {
            "colorbar": {
             "outlinewidth": 0,
             "ticks": ""
            },
            "colorscale": [
             [
              0,
              "#0d0887"
             ],
             [
              0.1111111111111111,
              "#46039f"
             ],
             [
              0.2222222222222222,
              "#7201a8"
             ],
             [
              0.3333333333333333,
              "#9c179e"
             ],
             [
              0.4444444444444444,
              "#bd3786"
             ],
             [
              0.5555555555555556,
              "#d8576b"
             ],
             [
              0.6666666666666666,
              "#ed7953"
             ],
             [
              0.7777777777777778,
              "#fb9f3a"
             ],
             [
              0.8888888888888888,
              "#fdca26"
             ],
             [
              1,
              "#f0f921"
             ]
            ],
            "type": "histogram2dcontour"
           }
          ],
          "mesh3d": [
           {
            "colorbar": {
             "outlinewidth": 0,
             "ticks": ""
            },
            "type": "mesh3d"
           }
          ],
          "parcoords": [
           {
            "line": {
             "colorbar": {
              "outlinewidth": 0,
              "ticks": ""
             }
            },
            "type": "parcoords"
           }
          ],
          "pie": [
           {
            "automargin": true,
            "type": "pie"
           }
          ],
          "scatter": [
           {
            "marker": {
             "line": {
              "color": "#283442"
             }
            },
            "type": "scatter"
           }
          ],
          "scatter3d": [
           {
            "line": {
             "colorbar": {
              "outlinewidth": 0,
              "ticks": ""
             }
            },
            "marker": {
             "colorbar": {
              "outlinewidth": 0,
              "ticks": ""
             }
            },
            "type": "scatter3d"
           }
          ],
          "scattercarpet": [
           {
            "marker": {
             "colorbar": {
              "outlinewidth": 0,
              "ticks": ""
             }
            },
            "type": "scattercarpet"
           }
          ],
          "scattergeo": [
           {
            "marker": {
             "colorbar": {
              "outlinewidth": 0,
              "ticks": ""
             }
            },
            "type": "scattergeo"
           }
          ],
          "scattergl": [
           {
            "marker": {
             "line": {
              "color": "#283442"
             }
            },
            "type": "scattergl"
           }
          ],
          "scattermapbox": [
           {
            "marker": {
             "colorbar": {
              "outlinewidth": 0,
              "ticks": ""
             }
            },
            "type": "scattermapbox"
           }
          ],
          "scatterpolar": [
           {
            "marker": {
             "colorbar": {
              "outlinewidth": 0,
              "ticks": ""
             }
            },
            "type": "scatterpolar"
           }
          ],
          "scatterpolargl": [
           {
            "marker": {
             "colorbar": {
              "outlinewidth": 0,
              "ticks": ""
             }
            },
            "type": "scatterpolargl"
           }
          ],
          "scatterternary": [
           {
            "marker": {
             "colorbar": {
              "outlinewidth": 0,
              "ticks": ""
             }
            },
            "type": "scatterternary"
           }
          ],
          "surface": [
           {
            "colorbar": {
             "outlinewidth": 0,
             "ticks": ""
            },
            "colorscale": [
             [
              0,
              "#0d0887"
             ],
             [
              0.1111111111111111,
              "#46039f"
             ],
             [
              0.2222222222222222,
              "#7201a8"
             ],
             [
              0.3333333333333333,
              "#9c179e"
             ],
             [
              0.4444444444444444,
              "#bd3786"
             ],
             [
              0.5555555555555556,
              "#d8576b"
             ],
             [
              0.6666666666666666,
              "#ed7953"
             ],
             [
              0.7777777777777778,
              "#fb9f3a"
             ],
             [
              0.8888888888888888,
              "#fdca26"
             ],
             [
              1,
              "#f0f921"
             ]
            ],
            "type": "surface"
           }
          ],
          "table": [
           {
            "cells": {
             "fill": {
              "color": "#506784"
             },
             "line": {
              "color": "rgb(17,17,17)"
             }
            },
            "header": {
             "fill": {
              "color": "#2a3f5f"
             },
             "line": {
              "color": "rgb(17,17,17)"
             }
            },
            "type": "table"
           }
          ]
         },
         "layout": {
          "annotationdefaults": {
           "arrowcolor": "#f2f5fa",
           "arrowhead": 0,
           "arrowwidth": 1
          },
          "autotypenumbers": "strict",
          "coloraxis": {
           "colorbar": {
            "outlinewidth": 0,
            "ticks": ""
           }
          },
          "colorscale": {
           "diverging": [
            [
             0,
             "#8e0152"
            ],
            [
             0.1,
             "#c51b7d"
            ],
            [
             0.2,
             "#de77ae"
            ],
            [
             0.3,
             "#f1b6da"
            ],
            [
             0.4,
             "#fde0ef"
            ],
            [
             0.5,
             "#f7f7f7"
            ],
            [
             0.6,
             "#e6f5d0"
            ],
            [
             0.7,
             "#b8e186"
            ],
            [
             0.8,
             "#7fbc41"
            ],
            [
             0.9,
             "#4d9221"
            ],
            [
             1,
             "#276419"
            ]
           ],
           "sequential": [
            [
             0,
             "#0d0887"
            ],
            [
             0.1111111111111111,
             "#46039f"
            ],
            [
             0.2222222222222222,
             "#7201a8"
            ],
            [
             0.3333333333333333,
             "#9c179e"
            ],
            [
             0.4444444444444444,
             "#bd3786"
            ],
            [
             0.5555555555555556,
             "#d8576b"
            ],
            [
             0.6666666666666666,
             "#ed7953"
            ],
            [
             0.7777777777777778,
             "#fb9f3a"
            ],
            [
             0.8888888888888888,
             "#fdca26"
            ],
            [
             1,
             "#f0f921"
            ]
           ],
           "sequentialminus": [
            [
             0,
             "#0d0887"
            ],
            [
             0.1111111111111111,
             "#46039f"
            ],
            [
             0.2222222222222222,
             "#7201a8"
            ],
            [
             0.3333333333333333,
             "#9c179e"
            ],
            [
             0.4444444444444444,
             "#bd3786"
            ],
            [
             0.5555555555555556,
             "#d8576b"
            ],
            [
             0.6666666666666666,
             "#ed7953"
            ],
            [
             0.7777777777777778,
             "#fb9f3a"
            ],
            [
             0.8888888888888888,
             "#fdca26"
            ],
            [
             1,
             "#f0f921"
            ]
           ]
          },
          "colorway": [
           "#636efa",
           "#EF553B",
           "#00cc96",
           "#ab63fa",
           "#FFA15A",
           "#19d3f3",
           "#FF6692",
           "#B6E880",
           "#FF97FF",
           "#FECB52"
          ],
          "font": {
           "color": "#f2f5fa"
          },
          "geo": {
           "bgcolor": "rgb(17,17,17)",
           "lakecolor": "rgb(17,17,17)",
           "landcolor": "rgb(17,17,17)",
           "showlakes": true,
           "showland": true,
           "subunitcolor": "#506784"
          },
          "hoverlabel": {
           "align": "left"
          },
          "hovermode": "closest",
          "mapbox": {
           "style": "dark"
          },
          "paper_bgcolor": "rgb(17,17,17)",
          "plot_bgcolor": "rgb(17,17,17)",
          "polar": {
           "angularaxis": {
            "gridcolor": "#506784",
            "linecolor": "#506784",
            "ticks": ""
           },
           "bgcolor": "rgb(17,17,17)",
           "radialaxis": {
            "gridcolor": "#506784",
            "linecolor": "#506784",
            "ticks": ""
           }
          },
          "scene": {
           "xaxis": {
            "backgroundcolor": "rgb(17,17,17)",
            "gridcolor": "#506784",
            "gridwidth": 2,
            "linecolor": "#506784",
            "showbackground": true,
            "ticks": "",
            "zerolinecolor": "#C8D4E3"
           },
           "yaxis": {
            "backgroundcolor": "rgb(17,17,17)",
            "gridcolor": "#506784",
            "gridwidth": 2,
            "linecolor": "#506784",
            "showbackground": true,
            "ticks": "",
            "zerolinecolor": "#C8D4E3"
           },
           "zaxis": {
            "backgroundcolor": "rgb(17,17,17)",
            "gridcolor": "#506784",
            "gridwidth": 2,
            "linecolor": "#506784",
            "showbackground": true,
            "ticks": "",
            "zerolinecolor": "#C8D4E3"
           }
          },
          "shapedefaults": {
           "line": {
            "color": "#f2f5fa"
           }
          },
          "sliderdefaults": {
           "bgcolor": "#C8D4E3",
           "bordercolor": "rgb(17,17,17)",
           "borderwidth": 1,
           "tickwidth": 0
          },
          "ternary": {
           "aaxis": {
            "gridcolor": "#506784",
            "linecolor": "#506784",
            "ticks": ""
           },
           "baxis": {
            "gridcolor": "#506784",
            "linecolor": "#506784",
            "ticks": ""
           },
           "bgcolor": "rgb(17,17,17)",
           "caxis": {
            "gridcolor": "#506784",
            "linecolor": "#506784",
            "ticks": ""
           }
          },
          "title": {
           "x": 0.05
          },
          "updatemenudefaults": {
           "bgcolor": "#506784",
           "borderwidth": 0
          },
          "xaxis": {
           "automargin": true,
           "gridcolor": "#283442",
           "linecolor": "#506784",
           "ticks": "",
           "title": {
            "standoff": 15
           },
           "zerolinecolor": "#283442",
           "zerolinewidth": 2
          },
          "yaxis": {
           "automargin": true,
           "gridcolor": "#283442",
           "linecolor": "#506784",
           "ticks": "",
           "title": {
            "standoff": 15
           },
           "zerolinecolor": "#283442",
           "zerolinewidth": 2
          }
         }
        },
        "title": {
         "text": "<b>Ruta óptima con ACO</b>",
         "x": 0.5,
         "xanchor": "center"
        },
        "xaxis": {
         "tickfont": {
          "color": "white",
          "family": "Arial",
          "size": 12
         },
         "title": {
          "font": {
           "size": 14
          },
          "text": "Longitud"
         }
        },
        "yaxis": {
         "tickfont": {
          "color": "white",
          "family": "Arial",
          "size": 12
         },
         "title": {
          "font": {
           "size": 14
          },
          "text": "Latitud"
         }
        }
       }
      }
     },
     "metadata": {},
     "output_type": "display_data"
    }
   ],
   "source": [
    "#CSV con coordenadas\n",
    "Coordenadas = pd.read_csv('./Coordenadas_reto.csv').dropna().drop_duplicates()\n",
    "\n",
    "#Establecer ciudades\n",
    "ciudades = [(x, y) for x, y in zip(Coordenadas.iloc[:, 0], Coordenadas.iloc[:, 1])]\n",
    "\n",
    "#Ejecución del Problema\n",
    "mejor_ruta, mejor_distancia = aco_tsp(ciudades, n_hormigas=72, iteraciones=72)\n",
    "\n",
    "print(f\"Mejor ruta: {mejor_ruta}\")\n",
    "print(f\"Mejor distancia: {mejor_distancia}\")\n",
    "graficar_ruta(ciudades, mejor_ruta, titulo=\"Ruta óptima con ACO\")"
   ]
  },
  {
   "cell_type": "markdown",
   "metadata": {
    "id": "1fAQqQBUyDpR"
   },
   "source": [
    "# **Variación de parametros**\n",
    "\n",
    "Se variaran los parametros `ciudades`,`n_hormigas`,`alfa`,`beta`,`rho`,`q` y `iteraciones`de la función `aco_tsp`, para poder ver si la modificación de uno de estos parametros encontra una solución optima."
   ]
  },
  {
   "cell_type": "markdown",
   "metadata": {
    "id": "Wvuu9yDczCsY"
   },
   "source": [
    "**Variación de alfa**:\n",
    "\n",
    "\n",
    "*   1: Valor por defecto de alfa.\n",
    "*   2: Igualar la importancia de las feromonas y la distancia para escoger un camino.\n",
    "*   3: Aumentar la importancia de las feromonas respecto a la distancia para elegir un camino.\n",
    "\n"
   ]
  },
  {
   "cell_type": "code",
   "execution_count": 11,
   "metadata": {
    "colab": {
     "base_uri": "https://localhost:8080/"
    },
    "id": "fhvl-LeGfGJZ",
    "outputId": "eb595741-2c6b-4a67-d711-ba55cac9b67c"
   },
   "outputs": [
    {
     "name": "stdout",
     "output_type": "stream",
     "text": [
      "Alfa = 1\n",
      "CPU times: total: 8.88 s\n",
      "Wall time: 8.88 s\n",
      "Mejor distancia: 1716.9124537799994\n",
      "---------------------------------------------------------------------------------------------\n",
      "Alfa = 2\n",
      "CPU times: total: 8.88 s\n",
      "Wall time: 8.86 s\n",
      "Mejor distancia: 1707.6764761485008\n",
      "---------------------------------------------------------------------------------------------\n",
      "Alfa = 3\n",
      "CPU times: total: 9.05 s\n",
      "Wall time: 9.14 s\n",
      "Mejor distancia: 1774.6827602281853\n",
      "---------------------------------------------------------------------------------------------\n"
     ]
    }
   ],
   "source": [
    "# Variación de alfa = {1,2,3}\n",
    "for i in range(1,4):\n",
    "  print(f\"Alfa = {i}\")\n",
    "  %time _, mejor_distancia = aco_tsp(ciudades, n_hormigas=72, iteraciones=72, alfa = i)\n",
    "  print(f\"Mejor distancia: {mejor_distancia}\")\n",
    "  print(\"---------------------------------------------------------------------------------------------\")"
   ]
  },
  {
   "cell_type": "markdown",
   "metadata": {
    "id": "1iOsFH-uzvBe"
   },
   "source": [
    "**Variación de beta**:\n",
    "\n",
    "\n",
    "*   1: Valor por defecto de beta.\n",
    "*   2: Aumentar la importancia de la distancia respecto a las feromonas para elegir un camino.\n",
    "*   3: Aumentar de mayor manera la importancia de la distancia respecto a las feromonas para elegir un camino."
   ]
  },
  {
   "cell_type": "code",
   "execution_count": null,
   "metadata": {
    "colab": {
     "base_uri": "https://localhost:8080/"
    },
    "id": "6WTItQKEhZ8A",
    "outputId": "fb89ade4-c716-4d26-f90a-a9bfafe0e8c3"
   },
   "outputs": [
    {
     "name": "stdout",
     "output_type": "stream",
     "text": [
      "Beta = 2\n",
      "CPU times: user 21.8 s, sys: 532 ms, total: 22.4 s\n",
      "Wall time: 22.2 s\n",
      "Mejor distancia: 1695.6251536847303\n",
      "---------------------------------------------------------------------------------------------\n",
      "Beta = 3\n",
      "CPU times: user 21.9 s, sys: 469 ms, total: 22.4 s\n",
      "Wall time: 22.2 s\n",
      "Mejor distancia: 1671.9776241541538\n",
      "---------------------------------------------------------------------------------------------\n",
      "Beta = 4\n",
      "CPU times: user 22.6 s, sys: 511 ms, total: 23.1 s\n",
      "Wall time: 22.8 s\n",
      "Mejor distancia: 1646.5273222051092\n",
      "---------------------------------------------------------------------------------------------\n"
     ]
    }
   ],
   "source": [
    "# Variación de beta = {2,3,4}\n",
    "for i in range(2,5):\n",
    "  print(f\"Beta = {i}\")\n",
    "  %time _, mejor_distancia = aco_tsp(ciudades, n_hormigas=72, iteraciones=72, beta = i)\n",
    "  print(f\"Mejor distancia: {mejor_distancia}\")\n",
    "  print(\"---------------------------------------------------------------------------------------------\")"
   ]
  },
  {
   "cell_type": "markdown",
   "metadata": {
    "id": "c126-W0x0AnW"
   },
   "source": [
    "**Variación de rho**:\n",
    "\n",
    "\n",
    "*   0.25: Disminuir a un `25%` la tasa de evaporación de feromonas, lo que hara que haya más feromonas en los caminos.\n",
    "*   0.5: Valor por defecto de rho.\n",
    "*   0.75: Aumentar a un `75%` la tasa de evaporación de feromonas, lo que hara que haya menos feromonas en los caminos."
   ]
  },
  {
   "cell_type": "code",
   "execution_count": null,
   "metadata": {
    "colab": {
     "base_uri": "https://localhost:8080/"
    },
    "id": "KY-EfjeehmcS",
    "outputId": "ae51a592-ff87-4d48-ae8a-37d19b988fb3"
   },
   "outputs": [
    {
     "name": "stdout",
     "output_type": "stream",
     "text": [
      "Rho = 0.25\n",
      "CPU times: user 20.7 s, sys: 233 ms, total: 20.9 s\n",
      "Wall time: 20.9 s\n",
      "Mejor distancia: 1725.0073171917393\n",
      "---------------------------------------------------------------------------------------------\n",
      "Rho = 0.5\n",
      "CPU times: user 20 s, sys: 195 ms, total: 20.2 s\n",
      "Wall time: 20.2 s\n",
      "Mejor distancia: 1657.278692436558\n",
      "---------------------------------------------------------------------------------------------\n",
      "Rho = 0.75\n",
      "CPU times: user 20.2 s, sys: 239 ms, total: 20.4 s\n",
      "Wall time: 20.4 s\n",
      "Mejor distancia: 1715.4393367923371\n",
      "---------------------------------------------------------------------------------------------\n"
     ]
    }
   ],
   "source": [
    "# Variación de rho = {0.25,0.5,0.7}\n",
    "for i in [0.25,0.5,0.75]:\n",
    "  print(f\"Rho = {i}\")\n",
    "  %time _, mejor_distancia = aco_tsp(ciudades, n_hormigas=72, iteraciones=72, rho = i)\n",
    "  print(f\"Mejor distancia: {mejor_distancia}\")\n",
    "  print(\"---------------------------------------------------------------------------------------------\")"
   ]
  },
  {
   "cell_type": "markdown",
   "metadata": {
    "id": "Gacah5Yp0sLO"
   },
   "source": [
    "**Variación de q**:\n",
    "\n",
    "\n",
    "*   50: Disminuir la cantidad de feromonas que deja cada hormiga, lo que hara que haya más feromonas en los caminos.\n",
    "*   100: Valor por defecto de q.\n",
    "*   200: Aumentar la cantidad de feromonas que deja cada hormiga, lo que hara que haya menos feromonas en los caminos."
   ]
  },
  {
   "cell_type": "code",
   "execution_count": null,
   "metadata": {
    "colab": {
     "base_uri": "https://localhost:8080/"
    },
    "id": "UnSUU-9eiHkj",
    "outputId": "8d83a9eb-7c9c-4b9a-b968-596d313dff31"
   },
   "outputs": [
    {
     "name": "stdout",
     "output_type": "stream",
     "text": [
      "q = 50\n",
      "CPU times: user 20.5 s, sys: 197 ms, total: 20.7 s\n",
      "Wall time: 20.7 s\n",
      "Mejor distancia: 1764.074559469537\n",
      "---------------------------------------------------------------------------------------------\n",
      "q = 100\n",
      "CPU times: user 19.5 s, sys: 168 ms, total: 19.7 s\n",
      "Wall time: 19.6 s\n",
      "Mejor distancia: 1707.872829419575\n",
      "---------------------------------------------------------------------------------------------\n",
      "q = 200\n",
      "CPU times: user 20.6 s, sys: 196 ms, total: 20.8 s\n",
      "Wall time: 20.8 s\n",
      "Mejor distancia: 1663.5370486593774\n",
      "---------------------------------------------------------------------------------------------\n"
     ]
    }
   ],
   "source": [
    "# Variación de q = {50,100,200}\n",
    "for i in [50,100,200]:\n",
    "  print(f\"q = {i}\")\n",
    "  %time _, mejor_distancia = aco_tsp(ciudades, n_hormigas=72, iteraciones=72, q = i)\n",
    "  print(f\"Mejor distancia: {mejor_distancia}\")\n",
    "  print(\"---------------------------------------------------------------------------------------------\")"
   ]
  }
 ],
 "metadata": {
  "colab": {
   "provenance": []
  },
  "kernelspec": {
   "display_name": "Python 3",
   "name": "python3"
  },
  "language_info": {
   "codemirror_mode": {
    "name": "ipython",
    "version": 3
   },
   "file_extension": ".py",
   "mimetype": "text/x-python",
   "name": "python",
   "nbconvert_exporter": "python",
   "pygments_lexer": "ipython3",
   "version": "3.10.0"
  }
 },
 "nbformat": 4,
 "nbformat_minor": 0
}
